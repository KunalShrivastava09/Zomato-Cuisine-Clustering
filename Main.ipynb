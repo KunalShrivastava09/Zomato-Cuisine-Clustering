{
 "cells": [
  {
   "cell_type": "code",
   "execution_count": 27,
   "id": "45eeaae6-5d0e-414e-bc60-e6ecbae5a352",
   "metadata": {},
   "outputs": [],
   "source": [
    "import pandas as pd\n",
    "import numpy as np\n",
    "from sklearn.feature_extraction.text import CountVectorizer\n",
    "from sklearn.preprocessing import StandardScaler\n",
    "from sklearn.cluster import KMeans\n",
    "from sklearn.decomposition import PCA\n",
    "import matplotlib.pyplot as plt\n",
    "import seaborn as sns\n",
    "import os\n",
    "os.environ['OMP_NUM_THREADS'] = '1'\n"
   ]
  },
  {
   "cell_type": "code",
   "execution_count": 28,
   "id": "acea728f-62e0-4887-aa4c-73c82cbcb7ef",
   "metadata": {},
   "outputs": [],
   "source": [
    "# Correct way without extra quotes\n",
    "df = pd.read_csv(r'C:\\Zomato Cuisine Clustering\\Zomato_data.csv')\n"
   ]
  },
  {
   "cell_type": "code",
   "execution_count": 29,
   "id": "43f4b9d2-463e-45ab-a41c-e7471e833562",
   "metadata": {},
   "outputs": [
    {
     "name": "stdout",
     "output_type": "stream",
     "text": [
      "                    name online_order book_table   rate  votes  \\\n",
      "0                  Jalsa          Yes        Yes  4.1/5    775   \n",
      "1         Spice Elephant          Yes         No  4.1/5    787   \n",
      "2        San Churro Cafe          Yes         No  3.8/5    918   \n",
      "3  Addhuri Udupi Bhojana           No         No  3.7/5     88   \n",
      "4          Grand Village           No         No  3.8/5    166   \n",
      "\n",
      "   approx_cost(for two people) listed_in(type)  \n",
      "0                          800          Buffet  \n",
      "1                          800          Buffet  \n",
      "2                          800          Buffet  \n",
      "3                          300          Buffet  \n",
      "4                          600          Buffet  \n"
     ]
    }
   ],
   "source": [
    "print(df.head())"
   ]
  },
  {
   "cell_type": "code",
   "execution_count": 30,
   "id": "a559c8de-2e43-4dc3-9bf8-d0f0ce007654",
   "metadata": {},
   "outputs": [
    {
     "name": "stdout",
     "output_type": "stream",
     "text": [
      "<class 'pandas.core.frame.DataFrame'>\n",
      "RangeIndex: 148 entries, 0 to 147\n",
      "Data columns (total 7 columns):\n",
      " #   Column                       Non-Null Count  Dtype \n",
      "---  ------                       --------------  ----- \n",
      " 0   name                         148 non-null    object\n",
      " 1   online_order                 148 non-null    object\n",
      " 2   book_table                   148 non-null    object\n",
      " 3   rate                         148 non-null    object\n",
      " 4   votes                        148 non-null    int64 \n",
      " 5   approx_cost(for two people)  148 non-null    int64 \n",
      " 6   listed_in(type)              148 non-null    object\n",
      "dtypes: int64(2), object(5)\n",
      "memory usage: 8.2+ KB\n",
      "None\n"
     ]
    }
   ],
   "source": [
    "print(df.info())"
   ]
  },
  {
   "cell_type": "code",
   "execution_count": 31,
   "id": "60783286-b036-4c6e-89b8-f42cd918d921",
   "metadata": {},
   "outputs": [],
   "source": [
    "# Step 2 – Process 'rate' column\n",
    "df['rate'] = df['rate'].apply(lambda x: x.split('/')[0].strip() if isinstance(x, str) else x)\n",
    "df['rate'] = pd.to_numeric(df['rate'], errors='coerce')\n",
    "df = df.dropna(subset=['rate']).reset_index(drop=True)"
   ]
  },
  {
   "cell_type": "code",
   "execution_count": 32,
   "id": "9b65c9f7-3e7c-4317-a1a2-13324669e60c",
   "metadata": {},
   "outputs": [],
   "source": [
    "# Step 3 – Convert 'online_order' and 'book_table' to binary (Yes → 1, else 0)\n",
    "df['online_order'] = df['online_order'].apply(lambda x: 1 if isinstance(x, str) and x.strip().lower() == 'yes' else 0)\n",
    "df['book_table'] = df['book_table'].apply(lambda x: 1 if isinstance(x, str) and x.strip().lower() == 'yes' else 0)\n"
   ]
  },
  {
   "cell_type": "code",
   "execution_count": 33,
   "id": "a0dd3b93-9c47-4fa0-85f0-88d782ea86a8",
   "metadata": {},
   "outputs": [],
   "source": [
    "# Step 4 – One-Hot Encode 'listed_in(type)'\n",
    "encoder = OneHotEncoder(sparse_output=False)\n",
    "cuisine_encoded = encoder.fit_transform(df[['listed_in(type)']])\n",
    "cuisine_df = pd.DataFrame(cuisine_encoded, columns=encoder.get_feature_names_out())"
   ]
  },
  {
   "cell_type": "code",
   "execution_count": 34,
   "id": "4c902c3d-da50-457c-a4cc-c1ac15dbf0c3",
   "metadata": {},
   "outputs": [],
   "source": [
    "# Step 5 – Combine features into final DataFrame\n",
    "df_final = pd.concat([\n",
    "    df[['online_order', 'book_table', 'rate', 'votes', 'approx_cost(for two people)']],\n",
    "    cuisine_df\n",
    "], axis=1)"
   ]
  },
  {
   "cell_type": "code",
   "execution_count": 35,
   "id": "dd313587-1f05-4a27-93c7-c6429350283a",
   "metadata": {},
   "outputs": [],
   "source": [
    "# Step 6 – Normalize numerical features\n",
    "scaler = StandardScaler()\n",
    "df_final[['rate', 'votes', 'approx_cost(for two people)']] = scaler.fit_transform(\n",
    "    df_final[['rate', 'votes', 'approx_cost(for two people)']]\n",
    ")"
   ]
  },
  {
   "cell_type": "code",
   "execution_count": 36,
   "id": "c45667d7-40c5-43d9-bbf0-94f0c5773a19",
   "metadata": {},
   "outputs": [
    {
     "data": {
      "text/html": [
       "<div>\n",
       "<style scoped>\n",
       "    .dataframe tbody tr th:only-of-type {\n",
       "        vertical-align: middle;\n",
       "    }\n",
       "\n",
       "    .dataframe tbody tr th {\n",
       "        vertical-align: top;\n",
       "    }\n",
       "\n",
       "    .dataframe thead th {\n",
       "        text-align: right;\n",
       "    }\n",
       "</style>\n",
       "<table border=\"1\" class=\"dataframe\">\n",
       "  <thead>\n",
       "    <tr style=\"text-align: right;\">\n",
       "      <th></th>\n",
       "      <th>online_order</th>\n",
       "      <th>book_table</th>\n",
       "      <th>rate</th>\n",
       "      <th>votes</th>\n",
       "      <th>approx_cost(for two people)</th>\n",
       "      <th>listed_in(type)_Buffet</th>\n",
       "      <th>listed_in(type)_Cafes</th>\n",
       "      <th>listed_in(type)_Dining</th>\n",
       "      <th>listed_in(type)_other</th>\n",
       "    </tr>\n",
       "  </thead>\n",
       "  <tbody>\n",
       "    <tr>\n",
       "      <th>0</th>\n",
       "      <td>1</td>\n",
       "      <td>1</td>\n",
       "      <td>1.164583</td>\n",
       "      <td>0.783142</td>\n",
       "      <td>1.717071</td>\n",
       "      <td>1.0</td>\n",
       "      <td>0.0</td>\n",
       "      <td>0.0</td>\n",
       "      <td>0.0</td>\n",
       "    </tr>\n",
       "    <tr>\n",
       "      <th>1</th>\n",
       "      <td>1</td>\n",
       "      <td>0</td>\n",
       "      <td>1.164583</td>\n",
       "      <td>0.801562</td>\n",
       "      <td>1.717071</td>\n",
       "      <td>1.0</td>\n",
       "      <td>0.0</td>\n",
       "      <td>0.0</td>\n",
       "      <td>0.0</td>\n",
       "    </tr>\n",
       "    <tr>\n",
       "      <th>2</th>\n",
       "      <td>1</td>\n",
       "      <td>0</td>\n",
       "      <td>0.416284</td>\n",
       "      <td>1.002647</td>\n",
       "      <td>1.717071</td>\n",
       "      <td>1.0</td>\n",
       "      <td>0.0</td>\n",
       "      <td>0.0</td>\n",
       "      <td>0.0</td>\n",
       "    </tr>\n",
       "    <tr>\n",
       "      <th>3</th>\n",
       "      <td>0</td>\n",
       "      <td>0</td>\n",
       "      <td>0.166850</td>\n",
       "      <td>-0.271405</td>\n",
       "      <td>-0.531836</td>\n",
       "      <td>1.0</td>\n",
       "      <td>0.0</td>\n",
       "      <td>0.0</td>\n",
       "      <td>0.0</td>\n",
       "    </tr>\n",
       "    <tr>\n",
       "      <th>4</th>\n",
       "      <td>0</td>\n",
       "      <td>0</td>\n",
       "      <td>0.416284</td>\n",
       "      <td>-0.151675</td>\n",
       "      <td>0.817508</td>\n",
       "      <td>1.0</td>\n",
       "      <td>0.0</td>\n",
       "      <td>0.0</td>\n",
       "      <td>0.0</td>\n",
       "    </tr>\n",
       "  </tbody>\n",
       "</table>\n",
       "</div>"
      ],
      "text/plain": [
       "   online_order  book_table      rate     votes  approx_cost(for two people)  \\\n",
       "0             1           1  1.164583  0.783142                     1.717071   \n",
       "1             1           0  1.164583  0.801562                     1.717071   \n",
       "2             1           0  0.416284  1.002647                     1.717071   \n",
       "3             0           0  0.166850 -0.271405                    -0.531836   \n",
       "4             0           0  0.416284 -0.151675                     0.817508   \n",
       "\n",
       "   listed_in(type)_Buffet  listed_in(type)_Cafes  listed_in(type)_Dining  \\\n",
       "0                     1.0                    0.0                     0.0   \n",
       "1                     1.0                    0.0                     0.0   \n",
       "2                     1.0                    0.0                     0.0   \n",
       "3                     1.0                    0.0                     0.0   \n",
       "4                     1.0                    0.0                     0.0   \n",
       "\n",
       "   listed_in(type)_other  \n",
       "0                    0.0  \n",
       "1                    0.0  \n",
       "2                    0.0  \n",
       "3                    0.0  \n",
       "4                    0.0  "
      ]
     },
     "execution_count": 36,
     "metadata": {},
     "output_type": "execute_result"
    }
   ],
   "source": [
    "# Preview the final prepared dataset\n",
    "df_final.head()"
   ]
  },
  {
   "cell_type": "code",
   "execution_count": 37,
   "id": "7c252d42-e0a9-405f-af15-bd269015d8c4",
   "metadata": {},
   "outputs": [
    {
     "name": "stderr",
     "output_type": "stream",
     "text": [
      "C:\\ProgramData\\anaconda3\\Lib\\site-packages\\sklearn\\cluster\\_kmeans.py:1419: UserWarning: KMeans is known to have a memory leak on Windows with MKL, when there are less chunks than available threads. You can avoid it by setting the environment variable OMP_NUM_THREADS=1.\n",
      "  warnings.warn(\n",
      "C:\\ProgramData\\anaconda3\\Lib\\site-packages\\sklearn\\cluster\\_kmeans.py:1419: UserWarning: KMeans is known to have a memory leak on Windows with MKL, when there are less chunks than available threads. You can avoid it by setting the environment variable OMP_NUM_THREADS=1.\n",
      "  warnings.warn(\n",
      "C:\\ProgramData\\anaconda3\\Lib\\site-packages\\sklearn\\cluster\\_kmeans.py:1419: UserWarning: KMeans is known to have a memory leak on Windows with MKL, when there are less chunks than available threads. You can avoid it by setting the environment variable OMP_NUM_THREADS=1.\n",
      "  warnings.warn(\n",
      "C:\\ProgramData\\anaconda3\\Lib\\site-packages\\sklearn\\cluster\\_kmeans.py:1419: UserWarning: KMeans is known to have a memory leak on Windows with MKL, when there are less chunks than available threads. You can avoid it by setting the environment variable OMP_NUM_THREADS=1.\n",
      "  warnings.warn(\n",
      "C:\\ProgramData\\anaconda3\\Lib\\site-packages\\sklearn\\cluster\\_kmeans.py:1419: UserWarning: KMeans is known to have a memory leak on Windows with MKL, when there are less chunks than available threads. You can avoid it by setting the environment variable OMP_NUM_THREADS=1.\n",
      "  warnings.warn(\n",
      "C:\\ProgramData\\anaconda3\\Lib\\site-packages\\sklearn\\cluster\\_kmeans.py:1419: UserWarning: KMeans is known to have a memory leak on Windows with MKL, when there are less chunks than available threads. You can avoid it by setting the environment variable OMP_NUM_THREADS=1.\n",
      "  warnings.warn(\n",
      "C:\\ProgramData\\anaconda3\\Lib\\site-packages\\sklearn\\cluster\\_kmeans.py:1419: UserWarning: KMeans is known to have a memory leak on Windows with MKL, when there are less chunks than available threads. You can avoid it by setting the environment variable OMP_NUM_THREADS=1.\n",
      "  warnings.warn(\n",
      "C:\\ProgramData\\anaconda3\\Lib\\site-packages\\sklearn\\cluster\\_kmeans.py:1419: UserWarning: KMeans is known to have a memory leak on Windows with MKL, when there are less chunks than available threads. You can avoid it by setting the environment variable OMP_NUM_THREADS=1.\n",
      "  warnings.warn(\n"
     ]
    },
    {
     "data": {
      "image/png": "[encoded data removed]",
      "text/plain": [
       "<Figure size 800x500 with 1 Axes>"
      ]
     },
     "metadata": {},
     "output_type": "display_data"
    }
   ],
   "source": [
    "from sklearn.cluster import KMeans\n",
    "import matplotlib.pyplot as plt\n",
    "\n",
    "inertia = []\n",
    "K = range(2, 10)\n",
    "\n",
    "for k in K:\n",
    "    kmeans = KMeans(n_clusters=k, random_state=42)\n",
    "    kmeans.fit(df_final)\n",
    "    inertia.append(kmeans.inertia_)\n",
    "\n",
    "# Plot the Elbow curve\n",
    "plt.figure(figsize=(8,5))\n",
    "plt.plot(K, inertia, 'bo-')\n",
    "plt.xlabel('Number of clusters (k)')\n",
    "plt.ylabel('Inertia')\n",
    "plt.title('Elbow Method to Determine Optimal k')\n",
    "plt.show()\n"
   ]
  },
  {
   "cell_type": "code",
   "execution_count": 38,
   "id": "75e88441-483b-4fd1-9072-5dbd4f88c2a0",
   "metadata": {},
   "outputs": [
    {
     "name": "stderr",
     "output_type": "stream",
     "text": [
      "C:\\ProgramData\\anaconda3\\Lib\\site-packages\\sklearn\\cluster\\_kmeans.py:1419: UserWarning: KMeans is known to have a memory leak on Windows with MKL, when there are less chunks than available threads. You can avoid it by setting the environment variable OMP_NUM_THREADS=1.\n",
      "  warnings.warn(\n"
     ]
    },
    {
     "data": {
      "text/html": [
       "<div>\n",
       "<style scoped>\n",
       "    .dataframe tbody tr th:only-of-type {\n",
       "        vertical-align: middle;\n",
       "    }\n",
       "\n",
       "    .dataframe tbody tr th {\n",
       "        vertical-align: top;\n",
       "    }\n",
       "\n",
       "    .dataframe thead th {\n",
       "        text-align: right;\n",
       "    }\n",
       "</style>\n",
       "<table border=\"1\" class=\"dataframe\">\n",
       "  <thead>\n",
       "    <tr style=\"text-align: right;\">\n",
       "      <th></th>\n",
       "      <th>online_order</th>\n",
       "      <th>book_table</th>\n",
       "      <th>rate</th>\n",
       "      <th>votes</th>\n",
       "      <th>approx_cost(for two people)</th>\n",
       "      <th>listed_in(type)_Buffet</th>\n",
       "      <th>listed_in(type)_Cafes</th>\n",
       "      <th>listed_in(type)_Dining</th>\n",
       "      <th>listed_in(type)_other</th>\n",
       "      <th>cluster</th>\n",
       "    </tr>\n",
       "  </thead>\n",
       "  <tbody>\n",
       "    <tr>\n",
       "      <th>0</th>\n",
       "      <td>1</td>\n",
       "      <td>1</td>\n",
       "      <td>1.164583</td>\n",
       "      <td>0.783142</td>\n",
       "      <td>1.717071</td>\n",
       "      <td>1.0</td>\n",
       "      <td>0.0</td>\n",
       "      <td>0.0</td>\n",
       "      <td>0.0</td>\n",
       "      <td>2</td>\n",
       "    </tr>\n",
       "    <tr>\n",
       "      <th>1</th>\n",
       "      <td>1</td>\n",
       "      <td>0</td>\n",
       "      <td>1.164583</td>\n",
       "      <td>0.801562</td>\n",
       "      <td>1.717071</td>\n",
       "      <td>1.0</td>\n",
       "      <td>0.0</td>\n",
       "      <td>0.0</td>\n",
       "      <td>0.0</td>\n",
       "      <td>2</td>\n",
       "    </tr>\n",
       "    <tr>\n",
       "      <th>2</th>\n",
       "      <td>1</td>\n",
       "      <td>0</td>\n",
       "      <td>0.416284</td>\n",
       "      <td>1.002647</td>\n",
       "      <td>1.717071</td>\n",
       "      <td>1.0</td>\n",
       "      <td>0.0</td>\n",
       "      <td>0.0</td>\n",
       "      <td>0.0</td>\n",
       "      <td>2</td>\n",
       "    </tr>\n",
       "    <tr>\n",
       "      <th>3</th>\n",
       "      <td>0</td>\n",
       "      <td>0</td>\n",
       "      <td>0.166850</td>\n",
       "      <td>-0.271405</td>\n",
       "      <td>-0.531836</td>\n",
       "      <td>1.0</td>\n",
       "      <td>0.0</td>\n",
       "      <td>0.0</td>\n",
       "      <td>0.0</td>\n",
       "      <td>0</td>\n",
       "    </tr>\n",
       "    <tr>\n",
       "      <th>4</th>\n",
       "      <td>0</td>\n",
       "      <td>0</td>\n",
       "      <td>0.416284</td>\n",
       "      <td>-0.151675</td>\n",
       "      <td>0.817508</td>\n",
       "      <td>1.0</td>\n",
       "      <td>0.0</td>\n",
       "      <td>0.0</td>\n",
       "      <td>0.0</td>\n",
       "      <td>2</td>\n",
       "    </tr>\n",
       "  </tbody>\n",
       "</table>\n",
       "</div>"
      ],
      "text/plain": [
       "   online_order  book_table      rate     votes  approx_cost(for two people)  \\\n",
       "0             1           1  1.164583  0.783142                     1.717071   \n",
       "1             1           0  1.164583  0.801562                     1.717071   \n",
       "2             1           0  0.416284  1.002647                     1.717071   \n",
       "3             0           0  0.166850 -0.271405                    -0.531836   \n",
       "4             0           0  0.416284 -0.151675                     0.817508   \n",
       "\n",
       "   listed_in(type)_Buffet  listed_in(type)_Cafes  listed_in(type)_Dining  \\\n",
       "0                     1.0                    0.0                     0.0   \n",
       "1                     1.0                    0.0                     0.0   \n",
       "2                     1.0                    0.0                     0.0   \n",
       "3                     1.0                    0.0                     0.0   \n",
       "4                     1.0                    0.0                     0.0   \n",
       "\n",
       "   listed_in(type)_other  cluster  \n",
       "0                    0.0        2  \n",
       "1                    0.0        2  \n",
       "2                    0.0        2  \n",
       "3                    0.0        0  \n",
       "4                    0.0        2  "
      ]
     },
     "execution_count": 38,
     "metadata": {},
     "output_type": "execute_result"
    }
   ],
   "source": [
    "# Apply K-Means clustering with chosen k (e.g., k=5)\n",
    "kmeans = KMeans(n_clusters=5, random_state=42)\n",
    "df_final['cluster'] = kmeans.fit_predict(df_final)\n",
    "\n",
    "# Show some of the clustered data\n",
    "df_final.head()\n"
   ]
  },
  {
   "cell_type": "code",
   "execution_count": 39,
   "id": "99d18b33-f258-4489-9596-528799f62d4e",
   "metadata": {},
   "outputs": [
    {
     "data": {
      "text/html": [
       "<div>\n",
       "<style scoped>\n",
       "    .dataframe tbody tr th:only-of-type {\n",
       "        vertical-align: middle;\n",
       "    }\n",
       "\n",
       "    .dataframe tbody tr th {\n",
       "        vertical-align: top;\n",
       "    }\n",
       "\n",
       "    .dataframe thead th {\n",
       "        text-align: right;\n",
       "    }\n",
       "</style>\n",
       "<table border=\"1\" class=\"dataframe\">\n",
       "  <thead>\n",
       "    <tr style=\"text-align: right;\">\n",
       "      <th></th>\n",
       "      <th>name</th>\n",
       "      <th>listed_in(type)</th>\n",
       "      <th>rate</th>\n",
       "      <th>votes</th>\n",
       "      <th>cluster</th>\n",
       "    </tr>\n",
       "  </thead>\n",
       "  <tbody>\n",
       "    <tr>\n",
       "      <th>0</th>\n",
       "      <td>Jalsa</td>\n",
       "      <td>Buffet</td>\n",
       "      <td>4.1</td>\n",
       "      <td>775</td>\n",
       "      <td>2</td>\n",
       "    </tr>\n",
       "    <tr>\n",
       "      <th>1</th>\n",
       "      <td>Spice Elephant</td>\n",
       "      <td>Buffet</td>\n",
       "      <td>4.1</td>\n",
       "      <td>787</td>\n",
       "      <td>2</td>\n",
       "    </tr>\n",
       "    <tr>\n",
       "      <th>2</th>\n",
       "      <td>San Churro Cafe</td>\n",
       "      <td>Buffet</td>\n",
       "      <td>3.8</td>\n",
       "      <td>918</td>\n",
       "      <td>2</td>\n",
       "    </tr>\n",
       "    <tr>\n",
       "      <th>3</th>\n",
       "      <td>Addhuri Udupi Bhojana</td>\n",
       "      <td>Buffet</td>\n",
       "      <td>3.7</td>\n",
       "      <td>88</td>\n",
       "      <td>0</td>\n",
       "    </tr>\n",
       "    <tr>\n",
       "      <th>4</th>\n",
       "      <td>Grand Village</td>\n",
       "      <td>Buffet</td>\n",
       "      <td>3.8</td>\n",
       "      <td>166</td>\n",
       "      <td>2</td>\n",
       "    </tr>\n",
       "  </tbody>\n",
       "</table>\n",
       "</div>"
      ],
      "text/plain": [
       "                    name listed_in(type)  rate  votes  cluster\n",
       "0                  Jalsa          Buffet   4.1    775        2\n",
       "1         Spice Elephant          Buffet   4.1    787        2\n",
       "2        San Churro Cafe          Buffet   3.8    918        2\n",
       "3  Addhuri Udupi Bhojana          Buffet   3.7     88        0\n",
       "4          Grand Village          Buffet   3.8    166        2"
      ]
     },
     "execution_count": 39,
     "metadata": {},
     "output_type": "execute_result"
    }
   ],
   "source": [
    "# Add cluster labels to the original DataFrame\n",
    "df['cluster'] = df_final['cluster']\n",
    "\n",
    "# Preview original data with cluster labels\n",
    "df[['name', 'listed_in(type)', 'rate', 'votes', 'cluster']].head()\n"
   ]
  },
  {
   "cell_type": "code",
   "execution_count": 45,
   "id": "e3bb7841-a01e-464c-9bc0-1ab25b1acb97",
   "metadata": {},
   "outputs": [
    {
     "data": {
      "image/png": "[encoded data removed]",
      "text/plain": [
       "<Figure size 640x480 with 1 Axes>"
      ]
     },
     "metadata": {},
     "output_type": "display_data"
    }
   ],
   "source": [
    "from sklearn.decomposition import PCA\n",
    "import matplotlib.pyplot as plt\n",
    "\n",
    "pca = PCA(n_components=2)\n",
    "pca_result = pca.fit_transform(df_final.drop('cluster', axis=1))\n",
    "\n",
    "plt.scatter(pca_result[:, 0], pca_result[:, 1], c=df_final['cluster'], cmap='viridis')\n",
    "plt.xlabel('PCA 1')\n",
    "plt.ylabel('PCA 2')\n",
    "plt.title('Restaurant Clusters Visualization')\n",
    "plt.show()\n"
   ]
  },
  {
   "cell_type": "code",
   "execution_count": 46,
   "id": "5a0065ab-ff88-4b36-95bc-5db215f7e04e",
   "metadata": {},
   "outputs": [
    {
     "name": "stdout",
     "output_type": "stream",
     "text": [
      "Silhouette Score: 0.3049878368555811\n"
     ]
    }
   ],
   "source": [
    "from sklearn.metrics import silhouette_score\n",
    "score = silhouette_score(df_final.drop('cluster', axis=1), df_final['cluster'])\n",
    "print(f\"Silhouette Score: {score}\")\n"
   ]
  },
  {
   "cell_type": "code",
   "execution_count": 47,
   "id": "48f1b244-298c-486a-9b8f-4db221f5f9d1",
   "metadata": {},
   "outputs": [],
   "source": [
    "def recommend_similar(restaurant_name, n_recommendations=5):\n",
    "    # Find the cluster of the given restaurant\n",
    "    try:\n",
    "        cluster_label = df[df['name'].str.lower() == restaurant_name.lower()]['cluster'].values[0]\n",
    "        \n",
    "        # Get other restaurants in the same cluster\n",
    "        similar_restaurants = df[df['cluster'] == cluster_label]['name'].sample(n=n_recommendations).values\n",
    "        \n",
    "        return similar_restaurants\n",
    "    except IndexError:\n",
    "        return \"Restaurant not found. Please check the name.\"\n"
   ]
  },
  {
   "cell_type": "code",
   "execution_count": 48,
   "id": "dcb627a2-099b-408b-ada8-6883083a7939",
   "metadata": {},
   "outputs": [
    {
     "name": "stdout",
     "output_type": "stream",
     "text": [
      "Recommended Restaurants:\n",
      "Redberrys\n",
      "Ovenstory Pizza\n",
      "Kirthi's Biryani\n",
      "Caf-Eleven\n",
      "Wamama\n"
     ]
    }
   ],
   "source": [
    "recommendations = recommend_similar('Domino\\'s Pizza', n_recommendations=5)\n",
    "print(\"Recommended Restaurants:\")\n",
    "for r in recommendations:\n",
    "    print(r)\n"
   ]
  },
  {
   "cell_type": "code",
   "execution_count": null,
   "id": "9294efe7-ccb3-46f5-b14f-1c3347a83152",
   "metadata": {},
   "outputs": [],
   "source": []
  },
  {
   "cell_type": "code",
   "execution_count": 49,
   "id": "a43831a0-c93c-4e6f-ad51-59b96e3af97f",
   "metadata": {},
   "outputs": [],
   "source": [
    "def recommend_highly_rated(restaurant_name, n_recommendations=5):\n",
    "    try:\n",
    "        # Find the cluster label of the given restaurant\n",
    "        cluster_label = df[df['name'].str.lower() == restaurant_name.lower()]['cluster'].values[0]\n",
    "        \n",
    "        # Filter restaurants in the same cluster, sorted by highest rating\n",
    "        similar_restaurants = (\n",
    "            df[df['cluster'] == cluster_label]\n",
    "            .sort_values(by='rate', ascending=False)['name']\n",
    "            .unique()\n",
    "        )\n",
    "        \n",
    "        # Return top n recommendations\n",
    "        recommendations = similar_restaurants[:n_recommendations]\n",
    "        return recommendations\n",
    "    except IndexError:\n",
    "        return \"Restaurant not found. Please check the name.\"\n"
   ]
  },
  {
   "cell_type": "code",
   "execution_count": 50,
   "id": "330f0336-620e-4377-96d6-2ac4891ec150",
   "metadata": {},
   "outputs": [
    {
     "name": "stdout",
     "output_type": "stream",
     "text": [
      "Recommended Highly Rated Restaurants:\n",
      "Smacznego\n",
      "The Coffee Shack\n",
      "Cafe Shuffle\n",
      "Wamama\n",
      "Peppy Peppers\n"
     ]
    }
   ],
   "source": [
    "recommendations = recommend_highly_rated('Domino\\'s Pizza', n_recommendations=5)\n",
    "print(\"Recommended Highly Rated Restaurants:\")\n",
    "for r in recommendations:\n",
    "    print(r)\n"
   ]
  }
 ],
 "metadata": {
  "kernelspec": {
   "display_name": "Python 3 (ipykernel)",
   "language": "python",
   "name": "python3"
  },
  "language_info": {
   "codemirror_mode": {
    "name": "ipython",
    "version": 3
   },
   "file_extension": ".py",
   "mimetype": "text/x-python",
   "name": "python",
   "nbconvert_exporter": "python",
   "pygments_lexer": "ipython3",
   "version": "3.13.5"
  }
 },
 "nbformat": 4,
 "nbformat_minor": 5
}
